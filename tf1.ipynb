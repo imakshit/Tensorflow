{
  "nbformat": 4,
  "nbformat_minor": 0,
  "metadata": {
    "colab": {
      "name": "tf1.ipynb",
      "provenance": [],
      "collapsed_sections": []
    },
    "kernelspec": {
      "name": "python3",
      "display_name": "Python 3"
    }
  },
  "cells": [
    {
      "cell_type": "markdown",
      "metadata": {
        "id": "jVVIKj7_FHnY",
        "colab_type": "text"
      },
      "source": [
        "**Creating tensors**"
      ]
    },
    {
      "cell_type": "code",
      "metadata": {
        "id": "x2Uke6MY-vsK",
        "colab_type": "code",
        "colab": {
          "base_uri": "https://localhost:8080/",
          "height": 72
        },
        "outputId": "4643a2d2-da24-47d1-87e2-19783104b8d0"
      },
      "source": [
        "%tensorflow_version 2.x\n",
        "import tensorflow as tf\n",
        "print(tf.version)"
      ],
      "execution_count": 1,
      "outputs": [
        {
          "output_type": "stream",
          "text": [
            "TensorFlow 2.x selected.\n",
            "<module 'tensorflow_core._api.v2.version' from '/tensorflow-2.1.0/python3.6/tensorflow_core/_api/v2/version/__init__.py'>\n"
          ],
          "name": "stdout"
        }
      ]
    },
    {
      "cell_type": "code",
      "metadata": {
        "id": "J07_iV5n_5Wz",
        "colab_type": "code",
        "colab": {}
      },
      "source": [
        "string = tf.Variable(\"this is a string\" , tf.string)"
      ],
      "execution_count": 0,
      "outputs": []
    },
    {
      "cell_type": "code",
      "metadata": {
        "id": "H2caPyiyAHwV",
        "colab_type": "code",
        "colab": {
          "base_uri": "https://localhost:8080/",
          "height": 34
        },
        "outputId": "cc528280-177a-46fd-fec7-63205a61c63f"
      },
      "source": [
        "print(string)"
      ],
      "execution_count": 4,
      "outputs": [
        {
          "output_type": "stream",
          "text": [
            "<tf.Variable 'Variable:0' shape=() dtype=string, numpy=b'this is a string'>\n"
          ],
          "name": "stdout"
        }
      ]
    },
    {
      "cell_type": "code",
      "metadata": {
        "id": "wqowDW6OALRW",
        "colab_type": "code",
        "colab": {}
      },
      "source": [
        "integer = tf.Variable(543 , tf.int16)"
      ],
      "execution_count": 0,
      "outputs": []
    },
    {
      "cell_type": "code",
      "metadata": {
        "id": "jI-ToWwrASJ-",
        "colab_type": "code",
        "colab": {
          "base_uri": "https://localhost:8080/",
          "height": 34
        },
        "outputId": "28934005-9450-460e-facb-dcbd6a89576c"
      },
      "source": [
        "print(integer)"
      ],
      "execution_count": 7,
      "outputs": [
        {
          "output_type": "stream",
          "text": [
            "<tf.Variable 'Variable:0' shape=() dtype=int32, numpy=543>\n"
          ],
          "name": "stdout"
        }
      ]
    },
    {
      "cell_type": "code",
      "metadata": {
        "id": "dTno-DTYAWzz",
        "colab_type": "code",
        "colab": {}
      },
      "source": [
        "float_val = tf.Variable(45.69 , tf.float64)"
      ],
      "execution_count": 0,
      "outputs": []
    },
    {
      "cell_type": "code",
      "metadata": {
        "id": "w0mE-tAuAd2I",
        "colab_type": "code",
        "colab": {
          "base_uri": "https://localhost:8080/",
          "height": 34
        },
        "outputId": "e103400e-4410-42c0-bc13-fa471f5856f2"
      },
      "source": [
        "print(float_val)"
      ],
      "execution_count": 9,
      "outputs": [
        {
          "output_type": "stream",
          "text": [
            "<tf.Variable 'Variable:0' shape=() dtype=float32, numpy=45.69>\n"
          ],
          "name": "stdout"
        }
      ]
    },
    {
      "cell_type": "markdown",
      "metadata": {
        "id": "f9KYN7GtFdhF",
        "colab_type": "text"
      },
      "source": [
        "**Rank/Degree of tensor**\n",
        "\n",
        "\n",
        "\n",
        "\n",
        "number of dimensions involved in tensor\n",
        "\n",
        "\n",
        "\n",
        "dimension 0 means scalar\n",
        "more than 1 means vector"
      ]
    },
    {
      "cell_type": "code",
      "metadata": {
        "id": "UAh2egK2AgB-",
        "colab_type": "code",
        "colab": {}
      },
      "source": [
        "rank1_tensor = tf.Variable([\"hello\" , \"tim\" , \"here\"] , tf.string)"
      ],
      "execution_count": 0,
      "outputs": []
    },
    {
      "cell_type": "code",
      "metadata": {
        "id": "vsXSCl0TBNyF",
        "colab_type": "code",
        "colab": {}
      },
      "source": [
        "rank2_tensor = tf.Variable([[\"hello\" , \"tim\"],[\"i\" , \"here\"]] , tf.string)"
      ],
      "execution_count": 0,
      "outputs": []
    },
    {
      "cell_type": "markdown",
      "metadata": {
        "id": "K6f1orxAGBxn",
        "colab_type": "text"
      },
      "source": [
        "to determine rank of a tensor, we can call the following method"
      ]
    },
    {
      "cell_type": "code",
      "metadata": {
        "id": "MVWlZPvVBYLk",
        "colab_type": "code",
        "colab": {
          "base_uri": "https://localhost:8080/",
          "height": 34
        },
        "outputId": "f56afdf8-6ba2-464b-af5d-7d0b06d20b86"
      },
      "source": [
        "tf.rank(rank1_tensor)"
      ],
      "execution_count": 12,
      "outputs": [
        {
          "output_type": "execute_result",
          "data": {
            "text/plain": [
              "<tf.Tensor: shape=(), dtype=int32, numpy=1>"
            ]
          },
          "metadata": {
            "tags": []
          },
          "execution_count": 12
        }
      ]
    },
    {
      "cell_type": "code",
      "metadata": {
        "id": "mdWBSfY1BdQN",
        "colab_type": "code",
        "colab": {
          "base_uri": "https://localhost:8080/",
          "height": 34
        },
        "outputId": "4b21453a-e587-4a40-b7fa-b67ad674378b"
      },
      "source": [
        "tf.rank(rank2_tensor)"
      ],
      "execution_count": 13,
      "outputs": [
        {
          "output_type": "execute_result",
          "data": {
            "text/plain": [
              "<tf.Tensor: shape=(), dtype=int32, numpy=2>"
            ]
          },
          "metadata": {
            "tags": []
          },
          "execution_count": 13
        }
      ]
    },
    {
      "cell_type": "markdown",
      "metadata": {
        "id": "mGMS8Fq2GOt3",
        "colab_type": "text"
      },
      "source": [
        "**Shape of tensor**\n",
        "\n",
        "number of elements that exist in each dimension"
      ]
    },
    {
      "cell_type": "code",
      "metadata": {
        "id": "ObCpqGZ5BguE",
        "colab_type": "code",
        "colab": {
          "base_uri": "https://localhost:8080/",
          "height": 34
        },
        "outputId": "aa6d377c-6d94-434b-f85d-0d2d16e050ec"
      },
      "source": [
        "tf.shape(rank1_tensor)"
      ],
      "execution_count": 14,
      "outputs": [
        {
          "output_type": "execute_result",
          "data": {
            "text/plain": [
              "<tf.Tensor: shape=(1,), dtype=int32, numpy=array([3], dtype=int32)>"
            ]
          },
          "metadata": {
            "tags": []
          },
          "execution_count": 14
        }
      ]
    },
    {
      "cell_type": "code",
      "metadata": {
        "id": "0p1t0XWyB551",
        "colab_type": "code",
        "colab": {
          "base_uri": "https://localhost:8080/",
          "height": 34
        },
        "outputId": "34219bcf-b397-46b9-f799-f94395e6b887"
      },
      "source": [
        "tf.shape(rank2_tensor)"
      ],
      "execution_count": 15,
      "outputs": [
        {
          "output_type": "execute_result",
          "data": {
            "text/plain": [
              "<tf.Tensor: shape=(2,), dtype=int32, numpy=array([2, 2], dtype=int32)>"
            ]
          },
          "metadata": {
            "tags": []
          },
          "execution_count": 15
        }
      ]
    },
    {
      "cell_type": "markdown",
      "metadata": {
        "id": "jM9r4tYFGkvr",
        "colab_type": "text"
      },
      "source": [
        "**Changing Shape**\n",
        "\n",
        "number of elements in a tensor is equal to the product of sizes of all its shapes\n",
        "\n"
      ]
    },
    {
      "cell_type": "code",
      "metadata": {
        "id": "gUEZLu2gB9Fc",
        "colab_type": "code",
        "colab": {}
      },
      "source": [
        "tensor1 = tf.ones([1,2,3])"
      ],
      "execution_count": 0,
      "outputs": []
    },
    {
      "cell_type": "code",
      "metadata": {
        "id": "Y38XtvylC0FM",
        "colab_type": "code",
        "colab": {
          "base_uri": "https://localhost:8080/",
          "height": 70
        },
        "outputId": "f341d0c3-529b-4a2e-e3a4-a56712af081e"
      },
      "source": [
        "print(tensor1)"
      ],
      "execution_count": 17,
      "outputs": [
        {
          "output_type": "stream",
          "text": [
            "tf.Tensor(\n",
            "[[[1. 1. 1.]\n",
            "  [1. 1. 1.]]], shape=(1, 2, 3), dtype=float32)\n"
          ],
          "name": "stdout"
        }
      ]
    },
    {
      "cell_type": "markdown",
      "metadata": {
        "id": "23xBVj2vG6Nt",
        "colab_type": "text"
      },
      "source": [
        "\n",
        "\n",
        "The following function is used to change the shape"
      ]
    },
    {
      "cell_type": "code",
      "metadata": {
        "id": "04_v4R-pC3Qy",
        "colab_type": "code",
        "colab": {}
      },
      "source": [
        "tensor2 = tf.reshape(tensor1 , [2,3,1])"
      ],
      "execution_count": 0,
      "outputs": []
    },
    {
      "cell_type": "code",
      "metadata": {
        "id": "oEeZL2-zC9vt",
        "colab_type": "code",
        "colab": {
          "base_uri": "https://localhost:8080/",
          "height": 160
        },
        "outputId": "6ff27b98-12bf-42ee-e2dc-038ed0d753d9"
      },
      "source": [
        "print(tensor2)"
      ],
      "execution_count": 19,
      "outputs": [
        {
          "output_type": "stream",
          "text": [
            "tf.Tensor(\n",
            "[[[1.]\n",
            "  [1.]\n",
            "  [1.]]\n",
            "\n",
            " [[1.]\n",
            "  [1.]\n",
            "  [1.]]], shape=(2, 3, 1), dtype=float32)\n"
          ],
          "name": "stdout"
        }
      ]
    },
    {
      "cell_type": "code",
      "metadata": {
        "id": "TiK90QnAC_YN",
        "colab_type": "code",
        "colab": {}
      },
      "source": [
        "tensor3 = tf.reshape(tensor1 , [3,-1])"
      ],
      "execution_count": 0,
      "outputs": []
    },
    {
      "cell_type": "code",
      "metadata": {
        "id": "PPuoz3YDDMYB",
        "colab_type": "code",
        "colab": {
          "base_uri": "https://localhost:8080/",
          "height": 88
        },
        "outputId": "fc2c1ff5-8bd2-4bc1-f153-705304108f46"
      },
      "source": [
        "print(tensor3)"
      ],
      "execution_count": 21,
      "outputs": [
        {
          "output_type": "stream",
          "text": [
            "tf.Tensor(\n",
            "[[1. 1.]\n",
            " [1. 1.]\n",
            " [1. 1.]], shape=(3, 2), dtype=float32)\n"
          ],
          "name": "stdout"
        }
      ]
    },
    {
      "cell_type": "markdown",
      "metadata": {
        "id": "uQOAc2UnHgcq",
        "colab_type": "text"
      },
      "source": [
        "**Slicing**"
      ]
    },
    {
      "cell_type": "code",
      "metadata": {
        "id": "CYlOIOjzD218",
        "colab_type": "code",
        "colab": {}
      },
      "source": [
        "matrix = [\n",
        "          [1,2,3,4,5],\n",
        "          [6,7,8,9,10],\n",
        "          [11,12,13,14,15],\n",
        "          [16,17,18,19,20]\n",
        "]"
      ],
      "execution_count": 0,
      "outputs": []
    },
    {
      "cell_type": "code",
      "metadata": {
        "id": "Z3wL7hsHHtfa",
        "colab_type": "code",
        "colab": {}
      },
      "source": [
        "tensor = tf.Variable(matrix , dtype=tf.int32)"
      ],
      "execution_count": 0,
      "outputs": []
    },
    {
      "cell_type": "code",
      "metadata": {
        "id": "rOaJHsFKH1FG",
        "colab_type": "code",
        "colab": {
          "base_uri": "https://localhost:8080/",
          "height": 106
        },
        "outputId": "0b43c07b-1cc9-456d-d5fd-b2487513699a"
      },
      "source": [
        "print(tensor)"
      ],
      "execution_count": 28,
      "outputs": [
        {
          "output_type": "stream",
          "text": [
            "<tf.Variable 'Variable:0' shape=(4, 5) dtype=int32, numpy=\n",
            "array([[ 1,  2,  3,  4,  5],\n",
            "       [ 6,  7,  8,  9, 10],\n",
            "       [11, 12, 13, 14, 15],\n",
            "       [16, 17, 18, 19, 20]], dtype=int32)>\n"
          ],
          "name": "stdout"
        }
      ]
    },
    {
      "cell_type": "code",
      "metadata": {
        "id": "lztAXz-UH3lh",
        "colab_type": "code",
        "colab": {
          "base_uri": "https://localhost:8080/",
          "height": 34
        },
        "outputId": "e2c7165a-5ca9-40aa-b8be-e86f1f7beecd"
      },
      "source": [
        "print(matrix)"
      ],
      "execution_count": 29,
      "outputs": [
        {
          "output_type": "stream",
          "text": [
            "[[1, 2, 3, 4, 5], [6, 7, 8, 9, 10], [11, 12, 13, 14, 15], [16, 17, 18, 19, 20]]\n"
          ],
          "name": "stdout"
        }
      ]
    },
    {
      "cell_type": "code",
      "metadata": {
        "id": "21HY-d--H5mX",
        "colab_type": "code",
        "colab": {
          "base_uri": "https://localhost:8080/",
          "height": 34
        },
        "outputId": "d53ea470-f615-4d25-ab75-da21f65715af"
      },
      "source": [
        "print(tf.rank(tensor))"
      ],
      "execution_count": 30,
      "outputs": [
        {
          "output_type": "stream",
          "text": [
            "tf.Tensor(2, shape=(), dtype=int32)\n"
          ],
          "name": "stdout"
        }
      ]
    },
    {
      "cell_type": "code",
      "metadata": {
        "id": "lirtxxeDH_As",
        "colab_type": "code",
        "colab": {
          "base_uri": "https://localhost:8080/",
          "height": 34
        },
        "outputId": "109e849b-b8e9-4408-fc17-00277d6b886a"
      },
      "source": [
        "print(tf.shape(tensor))"
      ],
      "execution_count": 34,
      "outputs": [
        {
          "output_type": "stream",
          "text": [
            "tf.Tensor([4 5], shape=(2,), dtype=int32)\n"
          ],
          "name": "stdout"
        }
      ]
    },
    {
      "cell_type": "code",
      "metadata": {
        "id": "Ys5auFrQIESK",
        "colab_type": "code",
        "colab": {}
      },
      "source": [
        "three = tensor[0,2] #3rd element from 1st row"
      ],
      "execution_count": 0,
      "outputs": []
    },
    {
      "cell_type": "code",
      "metadata": {
        "id": "jKHsXMtkIS3y",
        "colab_type": "code",
        "colab": {
          "base_uri": "https://localhost:8080/",
          "height": 34
        },
        "outputId": "b51ab7ed-6758-4487-8c4b-ef5f2ce3545b"
      },
      "source": [
        "print(three)"
      ],
      "execution_count": 38,
      "outputs": [
        {
          "output_type": "stream",
          "text": [
            "tf.Tensor(3, shape=(), dtype=int32)\n"
          ],
          "name": "stdout"
        }
      ]
    },
    {
      "cell_type": "code",
      "metadata": {
        "id": "SCRm9wrfIUJF",
        "colab_type": "code",
        "colab": {}
      },
      "source": [
        "row1 = tensor[0] #selects first column"
      ],
      "execution_count": 0,
      "outputs": []
    },
    {
      "cell_type": "code",
      "metadata": {
        "id": "jp06rFFlIdxV",
        "colab_type": "code",
        "colab": {
          "base_uri": "https://localhost:8080/",
          "height": 34
        },
        "outputId": "a9db60a7-b2ca-47d6-d42f-9514f96a2bf7"
      },
      "source": [
        "print(row1)"
      ],
      "execution_count": 42,
      "outputs": [
        {
          "output_type": "stream",
          "text": [
            "tf.Tensor([1 2 3 4 5], shape=(5,), dtype=int32)\n"
          ],
          "name": "stdout"
        }
      ]
    },
    {
      "cell_type": "code",
      "metadata": {
        "id": "8v6iMuQiIerD",
        "colab_type": "code",
        "colab": {}
      },
      "source": [
        "column_1_in_row_2_and_3 = tensor[1:3,0] #selects column 1 in row 2 and 3"
      ],
      "execution_count": 0,
      "outputs": []
    },
    {
      "cell_type": "code",
      "metadata": {
        "id": "FfNAR9hbIqLi",
        "colab_type": "code",
        "colab": {
          "base_uri": "https://localhost:8080/",
          "height": 34
        },
        "outputId": "a3048a43-10d9-4002-b790-881446a7a3aa"
      },
      "source": [
        "print(column_1_in_row_2_and_3)"
      ],
      "execution_count": 46,
      "outputs": [
        {
          "output_type": "stream",
          "text": [
            "tf.Tensor([ 6 11], shape=(2,), dtype=int32)\n"
          ],
          "name": "stdout"
        }
      ]
    },
    {
      "cell_type": "markdown",
      "metadata": {
        "id": "EoeC4lk0I3XN",
        "colab_type": "text"
      },
      "source": [
        "**Types of Tensors**\n",
        "\n",
        "\n",
        "\n",
        "*   Variable\n",
        "*   Constant\n",
        "*   Placeholder\n",
        "*   SparseTensor\n",
        "\n",
        "\n",
        "all tensors are immutable except Variable.\n",
        "\n"
      ]
    },
    {
      "cell_type": "code",
      "metadata": {
        "id": "GgPK3TzrIr8t",
        "colab_type": "code",
        "colab": {}
      },
      "source": [
        ""
      ],
      "execution_count": 0,
      "outputs": []
    }
  ]
}